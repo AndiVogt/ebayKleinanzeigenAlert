{
 "cells": [
  {
   "cell_type": "code",
   "execution_count": 9,
   "metadata": {},
   "outputs": [
    {
     "name": "stdout",
     "output_type": "stream",
     "text": [
      "1\n",
      "2\n",
      "3\n",
      "4\n",
      "5\n",
      "6\n",
      "7\n",
      "8\n",
      "9\n",
      "10\n",
      "11\n",
      "12\n",
      "13\n",
      "14\n"
     ]
    },
    {
     "data": {
      "text/plain": [
       "105"
      ]
     },
     "execution_count": 9,
     "metadata": {},
     "output_type": "execute_result"
    }
   ],
   "source": [
    "cal = 0\n",
    "for i in range(1, 15):\n",
    "    print(i)\n",
    "    cal += i\n",
    "cal"
   ]
  },
  {
   "cell_type": "code",
   "execution_count": 5,
   "metadata": {
    "pycharm": {
     "name": "#%%\n"
    }
   },
   "outputs": [
    {
     "data": {
      "text/plain": [
       "35.0"
      ]
     },
     "execution_count": 5,
     "metadata": {},
     "output_type": "execute_result"
    }
   ],
   "source": [
    "140/4"
   ]
  },
  {
   "cell_type": "code",
   "execution_count": 11,
   "metadata": {},
   "outputs": [
    {
     "data": {
      "text/plain": [
       "35.0"
      ]
     },
     "execution_count": 11,
     "metadata": {},
     "output_type": "execute_result"
    }
   ],
   "source": [
    "140/4"
   ]
  },
  {
   "cell_type": "code",
   "execution_count": 7,
   "metadata": {},
   "outputs": [
    {
     "data": {
      "text/plain": [
       "10.0"
      ]
     },
     "execution_count": 7,
     "metadata": {},
     "output_type": "execute_result"
    }
   ],
   "source": [
    "140/14"
   ]
  },
  {
   "cell_type": "code",
   "execution_count": 8,
   "metadata": {},
   "outputs": [
    {
     "data": {
      "text/plain": [
       "20.0"
      ]
     },
     "execution_count": 8,
     "metadata": {},
     "output_type": "execute_result"
    }
   ],
   "source": [
    "140/7"
   ]
  },
  {
   "cell_type": "code",
   "execution_count": 12,
   "metadata": {},
   "outputs": [
    {
     "data": {
      "text/plain": [
       "52.5"
      ]
     },
     "execution_count": 12,
     "metadata": {},
     "output_type": "execute_result"
    }
   ],
   "source": [
    "105/2"
   ]
  },
  {
   "cell_type": "code",
   "execution_count": 12,
   "metadata": {},
   "outputs": [],
   "source": [
    "from ebAlert.ebayscrapping import ebayclass\n",
    "from ebAlert.telegram.telegramclass import telegram"
   ]
  },
  {
   "cell_type": "code",
   "execution_count": 3,
   "outputs": [],
   "source": [
    "factory = ebayclass.EbayItemFactory(\"https://www.ebay-kleinanzeigen.de/s-stanley-hobel/k0\")"
   ],
   "metadata": {
    "collapsed": false,
    "pycharm": {
     "name": "#%%\n"
    }
   }
  },
  {
   "cell_type": "code",
   "execution_count": 4,
   "outputs": [
    {
     "data": {
      "text/plain": "[Stanley Kombinationshobel Nr. 13-050 mit Hobeleisen und OVP - Top; 57072 Siegen; None,\n Stanley 23 woodbottom Hobel; 49843 Uelsen; None,\n Stanley 5 1/2C Hobel aus Engeland; 49843 Uelsen; None,\n Stanley Trockenbau Kantenhobel Gipskartonhobel STHT1-05937; 58708 Menden; None,\n Stanley Einhandhobel 1-12-060 Flachwinkel Nr. 60 1/2 Putzhobel; 58708 Menden; None,\n Stanley Standardhobel zu verkaufen; 86750 Megesheim; None,\n Stanley 248 Hobel 1920-1930; 49843 Uelsen; None,\n Stanley #4 & 4,5 lowknob Hobel; 73760 Ostfildern; None,\n Hobel-Stanley No 050-7 Messer alle Anschläge Made in UK; 52146 Würselen; None,\n Stanley 113 Hobel; 49843 Uelsen; None,\n 25 x Hobel Stanley Surform gebr. Werkstatt Konvolut; 49811 Laxten; None,\n Stanley & Record #4 Hobel; 73760 Ostfildern; None,\n Stanley 78 Hobel, Komplet in OVP; 49843 Uelsen; None,\n Stanley Hobel Made in England Nummer 5; 86152 Augsburg; None,\n Stanley Hobel Made in USA; 86152 Augsburg; None,\n Stanley verstellbarer Schlichthobel 1-12-203; 44793 Bochum-Mitte; None,\n Stanley A4 Hobel , Aluminium Hobel; 48455 Bad Bentheim; None,\n Stanley nr. 50 S Kombi Hobel; 49843 Uelsen; None,\n Blockhobel Stanley & andere Hersteller; 73760 Ostfildern; None,\n Stanley SW nr.4 Hobel , Neu#6; 48455 Bad Bentheim; None,\n Stanley #50S oder Record 44C  Nuthobel komplett; 73760 Ostfildern; None,\n Kantenhobel Stanley neu; 78239 Rielasingen-Worblingen; None,\n Stanley 148 Nut & Feder Hobel; 49843 Uelsen; None,\n Stanley Einhand Hobel #7; 48455 Bad Bentheim; None,\n Stanley nr.4 Hobel , Holz griff , Engeland #10; 48455 Bad Bentheim; None]"
     },
     "execution_count": 4,
     "metadata": {},
     "output_type": "execute_result"
    }
   ],
   "source": [
    "factory.item_list"
   ],
   "metadata": {
    "collapsed": false,
    "pycharm": {
     "name": "#%%\n"
    }
   }
  },
  {
   "cell_type": "code",
   "execution_count": 9,
   "outputs": [
    {
     "data": {
      "text/plain": "{'contents': <article class=\"aditem\" data-adid=\"2063677979\" data-href=\"/s-anzeige/stanley-einhand-hobel-7/2063677979-84-2492\">\n <div class=\"aditem-image\">\n <a href=\"/s-anzeige/stanley-einhand-hobel-7/2063677979-84-2492\">\n <div class=\"imagebox srpimagebox\" data-imgsrc=\"https://i.ebayimg.com/00/s/MTYwMFgxMjAw/z/eCEAAOSwmrNiQz3F/$_2.JPG\" data-imgsrcretina=\"https://i.ebayimg.com/00/s/MTYwMFgxMjAw/z/eCEAAOSwmrNiQz3F/$_35.JPG 2x\" data-imgtitle=\"Stanley Einhand Hobel #7 Niedersachsen - Bad Bentheim Vorschau\">\n </div>\n </a>\n </div>\n <div class=\"aditem-main\">\n <div class=\"aditem-main--top\">\n <div class=\"aditem-main--top--left\">\n <i class=\"icon icon-small icon-pin\"></i> 48455 Bad Bentheim</div>\n <div class=\"aditem-main--top--right\">\n <i class=\"icon icon-small icon-calendar-open\"></i> 29.03.2022</div>\n </div>\n <div class=\"aditem-main--middle\">\n <h2 class=\"text-module-begin\">\n <a class=\"ellipsis\" href=\"/s-anzeige/stanley-einhand-hobel-7/2063677979-84-2492\" name=\"2063677979\">Stanley Einhand Hobel #7</a>\n </h2>\n <p class=\"aditem-main--middle--description\">Stanley einhand Hobel in guter zustand!</p>\n <p class=\"aditem-main--middle--price\">\n                                         45 €</p>\n </div>\n <div class=\"aditem-main--bottom\">\n <p class=\"text-module-end\">\n <span class=\"simpletag tag-small\">Versand möglich</span>\n </p>\n </div>\n </div>\n </article>,\n '_city': '48455 Bad Bentheim',\n '_distance': None}"
     },
     "execution_count": 9,
     "metadata": {},
     "output_type": "execute_result"
    }
   ],
   "source": [
    "factory.item_list[-2].__dict__"
   ],
   "metadata": {
    "collapsed": false,
    "pycharm": {
     "name": "#%%\n"
    }
   }
  },
  {
   "cell_type": "code",
   "execution_count": 10,
   "outputs": [],
   "source": [
    "item = factory.item_list[-2]"
   ],
   "metadata": {
    "collapsed": false,
    "pycharm": {
     "name": "#%%\n"
    }
   }
  },
  {
   "cell_type": "code",
   "execution_count": 14,
   "outputs": [],
   "source": [
    "telegram.send_formated_message(item)"
   ],
   "metadata": {
    "collapsed": false,
    "pycharm": {
     "name": "#%%\n"
    }
   }
  },
  {
   "cell_type": "code",
   "execution_count": 15,
   "outputs": [],
   "source": [
    "message = f\"{item.title}\\n\\n{item.price} ({item.city})\\n\\n\""
   ],
   "metadata": {
    "collapsed": false,
    "pycharm": {
     "name": "#%%\n"
    }
   }
  },
  {
   "cell_type": "markdown",
   "source": [],
   "metadata": {
    "collapsed": false,
    "pycharm": {
     "name": "#%% md\n"
    }
   }
  },
  {
   "cell_type": "code",
   "execution_count": 16,
   "outputs": [
    {
     "data": {
      "text/plain": "'Stanley Einhand Hobel #7\\n\\n45 € (48455 Bad Bentheim)\\n\\n'"
     },
     "execution_count": 16,
     "metadata": {},
     "output_type": "execute_result"
    }
   ],
   "source": [
    "message"
   ],
   "metadata": {
    "collapsed": false,
    "pycharm": {
     "name": "#%%\n"
    }
   }
  },
  {
   "cell_type": "code",
   "execution_count": 17,
   "outputs": [],
   "source": [
    "url = f'<a href=\"{item.link}\">{item.link}</a>'"
   ],
   "metadata": {
    "collapsed": false,
    "pycharm": {
     "name": "#%%\n"
    }
   }
  },
  {
   "cell_type": "code",
   "execution_count": 18,
   "outputs": [
    {
     "data": {
      "text/plain": "'<a href=\"https://www.ebay-kleinanzeigen.de/s-anzeige/stanley-einhand-hobel-7/2063677979-84-2492\">https://www.ebay-kleinanzeigen.de/s-anzeige/stanley-einhand-hobel-7/2063677979-84-2492</a>'"
     },
     "execution_count": 18,
     "metadata": {},
     "output_type": "execute_result"
    }
   ],
   "source": [
    "url"
   ],
   "metadata": {
    "collapsed": false,
    "pycharm": {
     "name": "#%%\n"
    }
   }
  },
  {
   "cell_type": "code",
   "execution_count": 19,
   "outputs": [],
   "source": [
    "from urllib.parse import urlencode"
   ],
   "metadata": {
    "collapsed": false,
    "pycharm": {
     "name": "#%%\n"
    }
   }
  },
  {
   "cell_type": "code",
   "execution_count": 20,
   "outputs": [
    {
     "ename": "TypeError",
     "evalue": "not a valid non-string sequence or mapping object",
     "output_type": "error",
     "traceback": [
      "\u001B[1;31m---------------------------------------------------------------------------\u001B[0m",
      "\u001B[1;31mTypeError\u001B[0m                                 Traceback (most recent call last)",
      "\u001B[1;32mC:\\ProgramData\\Miniconda3\\envs\\ebay\\lib\\urllib\\parse.py\u001B[0m in \u001B[0;36murlencode\u001B[1;34m(query, doseq, safe, encoding, errors, quote_via)\u001B[0m\n\u001B[0;32m    900\u001B[0m             \u001B[1;32mif\u001B[0m \u001B[0mlen\u001B[0m\u001B[1;33m(\u001B[0m\u001B[0mquery\u001B[0m\u001B[1;33m)\u001B[0m \u001B[1;32mand\u001B[0m \u001B[1;32mnot\u001B[0m \u001B[0misinstance\u001B[0m\u001B[1;33m(\u001B[0m\u001B[0mquery\u001B[0m\u001B[1;33m[\u001B[0m\u001B[1;36m0\u001B[0m\u001B[1;33m]\u001B[0m\u001B[1;33m,\u001B[0m \u001B[0mtuple\u001B[0m\u001B[1;33m)\u001B[0m\u001B[1;33m:\u001B[0m\u001B[1;33m\u001B[0m\u001B[1;33m\u001B[0m\u001B[0m\n\u001B[1;32m--> 901\u001B[1;33m                 \u001B[1;32mraise\u001B[0m \u001B[0mTypeError\u001B[0m\u001B[1;33m\u001B[0m\u001B[1;33m\u001B[0m\u001B[0m\n\u001B[0m\u001B[0;32m    902\u001B[0m             \u001B[1;31m# Zero-length sequences of all types will get here and succeed,\u001B[0m\u001B[1;33m\u001B[0m\u001B[1;33m\u001B[0m\u001B[1;33m\u001B[0m\u001B[0m\n",
      "\u001B[1;31mTypeError\u001B[0m: ",
      "\nDuring handling of the above exception, another exception occurred:\n",
      "\u001B[1;31mTypeError\u001B[0m                                 Traceback (most recent call last)",
      "\u001B[1;32m<ipython-input-20-fbdc81b120a0>\u001B[0m in \u001B[0;36m<module>\u001B[1;34m\u001B[0m\n\u001B[1;32m----> 1\u001B[1;33m \u001B[0murlencode\u001B[0m\u001B[1;33m(\u001B[0m\u001B[0mmessage\u001B[0m\u001B[1;33m)\u001B[0m\u001B[1;33m\u001B[0m\u001B[1;33m\u001B[0m\u001B[0m\n\u001B[0m",
      "\u001B[1;32mC:\\ProgramData\\Miniconda3\\envs\\ebay\\lib\\urllib\\parse.py\u001B[0m in \u001B[0;36murlencode\u001B[1;34m(query, doseq, safe, encoding, errors, quote_via)\u001B[0m\n\u001B[0;32m    907\u001B[0m             \u001B[0mty\u001B[0m\u001B[1;33m,\u001B[0m \u001B[0mva\u001B[0m\u001B[1;33m,\u001B[0m \u001B[0mtb\u001B[0m \u001B[1;33m=\u001B[0m \u001B[0msys\u001B[0m\u001B[1;33m.\u001B[0m\u001B[0mexc_info\u001B[0m\u001B[1;33m(\u001B[0m\u001B[1;33m)\u001B[0m\u001B[1;33m\u001B[0m\u001B[1;33m\u001B[0m\u001B[0m\n\u001B[0;32m    908\u001B[0m             raise TypeError(\"not a valid non-string sequence \"\n\u001B[1;32m--> 909\u001B[1;33m                             \"or mapping object\").with_traceback(tb)\n\u001B[0m\u001B[0;32m    910\u001B[0m \u001B[1;33m\u001B[0m\u001B[0m\n\u001B[0;32m    911\u001B[0m     \u001B[0ml\u001B[0m \u001B[1;33m=\u001B[0m \u001B[1;33m[\u001B[0m\u001B[1;33m]\u001B[0m\u001B[1;33m\u001B[0m\u001B[1;33m\u001B[0m\u001B[0m\n",
      "\u001B[1;32mC:\\ProgramData\\Miniconda3\\envs\\ebay\\lib\\urllib\\parse.py\u001B[0m in \u001B[0;36murlencode\u001B[1;34m(query, doseq, safe, encoding, errors, quote_via)\u001B[0m\n\u001B[0;32m    899\u001B[0m             \u001B[1;31m# non-empty strings will fail this\u001B[0m\u001B[1;33m\u001B[0m\u001B[1;33m\u001B[0m\u001B[1;33m\u001B[0m\u001B[0m\n\u001B[0;32m    900\u001B[0m             \u001B[1;32mif\u001B[0m \u001B[0mlen\u001B[0m\u001B[1;33m(\u001B[0m\u001B[0mquery\u001B[0m\u001B[1;33m)\u001B[0m \u001B[1;32mand\u001B[0m \u001B[1;32mnot\u001B[0m \u001B[0misinstance\u001B[0m\u001B[1;33m(\u001B[0m\u001B[0mquery\u001B[0m\u001B[1;33m[\u001B[0m\u001B[1;36m0\u001B[0m\u001B[1;33m]\u001B[0m\u001B[1;33m,\u001B[0m \u001B[0mtuple\u001B[0m\u001B[1;33m)\u001B[0m\u001B[1;33m:\u001B[0m\u001B[1;33m\u001B[0m\u001B[1;33m\u001B[0m\u001B[0m\n\u001B[1;32m--> 901\u001B[1;33m                 \u001B[1;32mraise\u001B[0m \u001B[0mTypeError\u001B[0m\u001B[1;33m\u001B[0m\u001B[1;33m\u001B[0m\u001B[0m\n\u001B[0m\u001B[0;32m    902\u001B[0m             \u001B[1;31m# Zero-length sequences of all types will get here and succeed,\u001B[0m\u001B[1;33m\u001B[0m\u001B[1;33m\u001B[0m\u001B[1;33m\u001B[0m\u001B[0m\n\u001B[0;32m    903\u001B[0m             \u001B[1;31m# but that's a minor nit.  Since the original implementation\u001B[0m\u001B[1;33m\u001B[0m\u001B[1;33m\u001B[0m\u001B[1;33m\u001B[0m\u001B[0m\n",
      "\u001B[1;31mTypeError\u001B[0m: not a valid non-string sequence or mapping object"
     ]
    }
   ],
   "source": [
    "urlencode(message)"
   ],
   "metadata": {
    "collapsed": false,
    "pycharm": {
     "name": "#%%\n"
    }
   }
  },
  {
   "cell_type": "code",
   "execution_count": 21,
   "outputs": [
    {
     "data": {
      "text/plain": "'text=Stanley+Einhand+Hobel+%237%0A%0A45+%E2%82%AC+%2848455+Bad+Bentheim%29%0A%0A'"
     },
     "execution_count": 21,
     "metadata": {},
     "output_type": "execute_result"
    }
   ],
   "source": [
    "urlencode({\"text\": message})"
   ],
   "metadata": {
    "collapsed": false,
    "pycharm": {
     "name": "#%%\n"
    }
   }
  },
  {
   "cell_type": "code",
   "execution_count": null,
   "outputs": [],
   "source": [],
   "metadata": {
    "collapsed": false,
    "pycharm": {
     "name": "#%%\n"
    }
   }
  }
 ],
 "metadata": {
  "kernelspec": {
   "name": "conda-env-ebay-py",
   "language": "python",
   "display_name": "Python [conda env:ebay]"
  },
  "language_info": {
   "codemirror_mode": {
    "name": "ipython",
    "version": 3
   },
   "file_extension": ".py",
   "mimetype": "text/x-python",
   "name": "python",
   "nbconvert_exporter": "python",
   "pygments_lexer": "ipython3",
   "version": "3.8.3"
  }
 },
 "nbformat": 4,
 "nbformat_minor": 1
}